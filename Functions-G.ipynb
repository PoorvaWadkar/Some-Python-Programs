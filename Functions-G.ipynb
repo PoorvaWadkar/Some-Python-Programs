{
 "cells": [
  {
   "cell_type": "code",
   "execution_count": 1,
   "id": "0bb8068c-2496-4bdd-8af8-4b5b65e0252e",
   "metadata": {},
   "outputs": [
    {
     "data": {
      "text/plain": [
       "6"
      ]
     },
     "execution_count": 1,
     "metadata": {},
     "output_type": "execute_result"
    }
   ],
   "source": [
    "# 1. write a function which will try to find out len of a string without using an inbuild len function \n",
    "\n",
    "def string_len(name):\n",
    "    \"\"\"This is a program which will help to find the length of string\"\"\"\n",
    "    count = 0\n",
    "    for i in name:\n",
    "        count = count + 1\n",
    "    return count\n",
    "string_len(\"Poorva\")"
   ]
  },
  {
   "cell_type": "code",
   "execution_count": 2,
   "id": "51bd61b3-a3cd-4007-8f95-b15498e93473",
   "metadata": {},
   "outputs": [
    {
     "name": "stdout",
     "output_type": "stream",
     "text": [
      "Element :4 index :0\n",
      "Element :5 index :1\n",
      "Element :6 index :2\n",
      "Element :poorva index :3\n",
      "Element :8.7 index :4\n",
      "Element :(3+2j) index :5\n",
      "Element :amazing index :6\n",
      "Element :[9, 8] index :7\n"
     ]
    }
   ],
   "source": [
    "# 2. write a function which will be able to print an index of list element without using an index function\n",
    "\n",
    "l = [4,5,6,\"poorva\",8.7,3+2j,\"amazing\",[9,8]]\n",
    "def element_index(l):\n",
    "    \"\"\"\"\"\"\n",
    "    #for i in range(0,len(l))\n",
    "    for i in range(0,string_len(l)):     # My user defined string_len() is used instead of len()\n",
    "        print(f\"Element :{l[i]} index :{i}\")\n",
    "        \n",
    "\n",
    "element_index(l)"
   ]
  },
  {
   "cell_type": "code",
   "execution_count": null,
   "id": "354f49af-aaf9-4f11-bda8-1d1c8ae98279",
   "metadata": {},
   "outputs": [],
   "source": [
    "# 3. write a function which will be able to print an ip address of your system\n",
    "\n",
    "import socket\n",
    "def ip_address():\n",
    "    ## getting the hostname by socket.gethostname() method\n",
    "    hostname = socket.gethostname()\n",
    "    ## getting the IP address using socket.gethostbyname() method\n",
    "    ip_address = socket.gethostbyname(hostname)\n",
    "    ## printing the hostname and ip_address\n",
    "\n",
    "    #socket.gethostbyname(socket.gethostname())  can also be used.\n",
    "\n",
    "    print(f\"Hostname: {hostname}\")\n",
    "    print(f\"IP Address: {ip_address}\")\n",
    "ip_address()"
   ]
  },
  {
   "cell_type": "code",
   "execution_count": null,
   "id": "8cf6e128-15d4-436f-8591-f3d1c90e0387",
   "metadata": {},
   "outputs": [],
   "source": [
    "# 4. write a function which will shutdown your system\n",
    "import os\n",
    "def shutdown_PC():\n",
    "    #  /s - shutdown\n",
    "    # /r - restart\n",
    "    # /t 1 - timer : after 1 second\n",
    "    os.system(\"shutdown /s /t 1\")\n",
    "shutdown_PC()"
   ]
  },
  {
   "cell_type": "code",
   "execution_count": 4,
   "id": "22f2eca2-4c51-4f31-9ddf-62269c542d45",
   "metadata": {},
   "outputs": [
    {
     "data": {
      "text/plain": [
       "459.19999999999993"
      ]
     },
     "execution_count": 4,
     "metadata": {},
     "output_type": "execute_result"
    }
   ],
   "source": [
    "# 5. write a function which will take input as a list with any kind of numeric value and give an out as a multiplication of all the numeric data\n",
    "# l = [3.5,6.56,4,5,\"sudh\",\"ineuron\",\"fsds bootcamp 2.0\"]\n",
    "l = [3.5,6.56,4,5,\"sudh\",\"ineuron\",\"fsds bootcamp 2.0\"]\n",
    "def multiplication(l):\n",
    "  mul = 1\n",
    "  for i in l:\n",
    "    if type(i) == int or type(i) == float:\n",
    "      mul = mul * i\n",
    "  return mul\n",
    "multiplication(l)"
   ]
  },
  {
   "cell_type": "code",
   "execution_count": null,
   "id": "58296a6b-ef15-495f-8b0c-ec9cd17db381",
   "metadata": {},
   "outputs": [],
   "source": [
    "# 6. write a function which will be able to read all the mails\n",
    "import smtplib\n",
    "import time\n",
    "import imaplib\n",
    "import email\n",
    "ORG_EMAIL = \"@gmail.com\" \n",
    "FROM_EMAIL = 'abc@gmail.com'\n",
    "FROM_PWD = 'cojkiutlyycelldc'\n",
    "SMTP_SERVER = \"imap.gmail.com\" \n",
    "SMTP_PORT = 993\n",
    "imaplib._MAXLINE = 400000000\n",
    "\n",
    "def read_email_from_gmail():\n",
    "    try:\n",
    "        mail = imaplib.IMAP4_SSL(SMTP_SERVER)\n",
    "        mail.login(FROM_EMAIL,FROM_PWD)\n",
    "        mail.select('inbox')\n",
    "\n",
    "        data = mail.search(None, 'ALL')\n",
    "        mail_ids = data[1]\n",
    "        id_list = mail_ids[0].split()   \n",
    "        first_email_id = int(id_list[0])\n",
    "        latest_email_id = int(id_list[-1])\n",
    "\n",
    "        for i in range(latest_email_id,first_email_id, -1):\n",
    "            data = mail.fetch(str(i), '(RFC822)' )\n",
    "            for response_part in data:\n",
    "                arr = response_part[0]\n",
    "                if isinstance(arr, tuple):\n",
    "                    msg = email.message_from_string(str(arr[1],'utf-8'))\n",
    "                    email_subject = msg['subject']\n",
    "                    email_from = msg['from']\n",
    "                    print('From : ' + email_from + '\\n')\n",
    "                    print('Subject : ' + email_subject + '\\n')\n",
    "\n",
    "    except Exception as e:\n",
    "        traceback.print_exc() \n",
    "        print(str(e))\n",
    "\n",
    "read_email_from_gmail()\n"
   ]
  },
  {
   "cell_type": "code",
   "execution_count": 8,
   "id": "1748a658-b9df-4692-8642-c4bf446585c3",
   "metadata": {},
   "outputs": [],
   "source": [
    "# 7. write a function which will be able to send a mail to anyone\n",
    "\n",
    "import smtplib , ssl\n",
    "port = 465  # For SSL\n",
    "smtp_server = \"smtp.gmail.com\"\n",
    "sender_email = \"abc@gmail.com\"  # Enter your address\n",
    "receiver_email = \"pqr@gmail.com\"  # Enter receiver address\n",
    "password = 'cojkiutlyycelldc'\n",
    "message = \"\"\"This is my message from Python code \"\"\"\n",
    "\n",
    "context = ssl.create_default_context()\n",
    "with smtplib.SMTP_SSL(smtp_server, port, context=context) as server:\n",
    "    server.login(sender_email, password)\n",
    "    server.sendmail(sender_email, receiver_email, message)"
   ]
  },
  {
   "cell_type": "code",
   "execution_count": 14,
   "id": "f2acd9c7-c570-4b32-96ee-77fcd4fa74a5",
   "metadata": {},
   "outputs": [],
   "source": [
    "# 8. write a function which will be able to read a doc/word file from your system\n",
    "import docx2txt"
   ]
  },
  {
   "cell_type": "code",
   "execution_count": 15,
   "id": "49dfd7a1-eab9-43a9-9b9c-5d7472093400",
   "metadata": {},
   "outputs": [
    {
     "name": "stdout",
     "output_type": "stream",
     "text": [
      "Requirement already satisfied: docx2txt in /opt/conda/lib/python3.10/site-packages (0.8)\n"
     ]
    }
   ],
   "source": [
    "!pip install docx2txt"
   ]
  },
  {
   "cell_type": "code",
   "execution_count": null,
   "id": "706e415d-513d-4c3b-82fc-5b6028f14775",
   "metadata": {},
   "outputs": [],
   "source": [
    "a = docx2txt.process(\"file_name.docx\")\n",
    "print(a)"
   ]
  }
 ],
 "metadata": {
  "kernelspec": {
   "display_name": "Python 3 (ipykernel)",
   "language": "python",
   "name": "python3"
  },
  "language_info": {
   "codemirror_mode": {
    "name": "ipython",
    "version": 3
   },
   "file_extension": ".py",
   "mimetype": "text/x-python",
   "name": "python",
   "nbconvert_exporter": "python",
   "pygments_lexer": "ipython3",
   "version": "3.10.6"
  }
 },
 "nbformat": 4,
 "nbformat_minor": 5
}
